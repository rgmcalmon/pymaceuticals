{
 "cells": [
  {
   "cell_type": "markdown",
   "metadata": {},
   "source": [
    "## Observations\n",
    "* The mice treated with Capomulin and Ramicane experienced the least appearances of metastatic sites by the end of the treatment: $1.47\\pm 0.40$ new metastatic sites for Capomulin, and $1.25\\pm 0.19$ new metastatic sites under Ramicane (results stated with 95% confidence).\n",
    "* The mice treated with Capomulin and Ramicane had the highest survival rates. By the end of the treatment, 84% of the mice treated with Capomulin survived, and 80% of the mice treated with Ramicane survived.\n",
    "* The only treatments which produced a decrease in mean tumor volume were Capomulin (19% decrease) and Ramicane (22% decrease). The rest of the drugs produced increases in mean tumor volume with little to no significant difference from the placebo."
   ]
  },
  {
   "cell_type": "code",
   "execution_count": null,
   "metadata": {},
   "outputs": [],
   "source": [
    "# Dependencies and Setup\n",
    "%matplotlib inline\n",
    "import matplotlib.pyplot as plt\n",
    "import pandas as pd\n",
    "import numpy as np\n",
    "\n",
    "# Hide warning messages in notebook\n",
    "import warnings\n",
    "warnings.filterwarnings('ignore')\n",
    "\n",
    "# File to Load\n",
    "mouse_file = \"data/mouse_drug_data.csv\"\n",
    "clinicaltrial_file = \"data/clinicaltrial_data.csv\"\n",
    "\n",
    "# Read the Mouse and Drug Data and the Clinical Trial Data\n",
    "mouse_df = pd.read_csv(mouse_file)\n",
    "trial_df = pd.read_csv(clinicaltrial_file)\n",
    "\n",
    "# Combine the data into a single dataset\n",
    "df = pd.merge(trial_df, mouse_df, on='Mouse ID').sort_values('Timepoint')\n",
    "\n",
    "# Display the data table for preview\n",
    "df.head()\n"
   ]
  },
  {
   "cell_type": "markdown",
   "metadata": {},
   "source": [
    "## Tumor Response to Treatment"
   ]
  },
  {
   "cell_type": "code",
   "execution_count": null,
   "metadata": {},
   "outputs": [],
   "source": [
    "# Store the Mean Tumor Volume Data Grouped by Drug and Timepoint\n",
    "mean_tumor_volume_s = df.groupby(['Drug', 'Timepoint'])['Tumor Volume (mm3)'].mean()\n",
    "\n",
    "# Convert to DataFrame\n",
    "mtv_df = mean_tumor_volume_s.to_frame()\n",
    "\n",
    "# Preview DataFrame\n",
    "mtv_df.head()"
   ]
  },
  {
   "cell_type": "code",
   "execution_count": null,
   "metadata": {},
   "outputs": [],
   "source": [
    "# Store the Standard Error of Tumor Volumes Grouped by Drug and Timepoint\n",
    "tv_err_s = df.groupby(['Drug', 'Timepoint'])['Tumor Volume (mm3)'].sem()\n",
    "\n",
    "# Convert to DataFrame\n",
    "tv_err_df = tv_err_s.to_frame()\n",
    "\n",
    "# Preview DataFrame\n",
    "tv_err_df.head()\n"
   ]
  },
  {
   "cell_type": "code",
   "execution_count": null,
   "metadata": {},
   "outputs": [],
   "source": [
    "# Minor Data Munging to Re-Format the Data Frames\n",
    "mtv_df = mtv_df.unstack(0)['Tumor Volume (mm3)']\n",
    "tv_err_df = tv_err_df.unstack(0)['Tumor Volume (mm3)']\n",
    "\n",
    "# Preview that Reformatting worked\n",
    "mtv_df"
   ]
  },
  {
   "cell_type": "code",
   "execution_count": null,
   "metadata": {},
   "outputs": [],
   "source": [
    "tv_err_df"
   ]
  },
  {
   "cell_type": "code",
   "execution_count": null,
   "metadata": {},
   "outputs": [],
   "source": [
    "# 95% confidence interval radii for final results\n",
    "tv_err_df.iloc[-1] * 1.96"
   ]
  },
  {
   "cell_type": "code",
   "execution_count": null,
   "metadata": {
    "scrolled": false
   },
   "outputs": [],
   "source": [
    "# Generate the Plot (with Error Bars)\n",
    "# Get x axis values\n",
    "x_axis = list(mtv_df.index.values)\n",
    "\n",
    "# Get column names\n",
    "drug_names = list(mtv_df)\n",
    "\n",
    "plt.figure(figsize=(20,10))\n",
    "\n",
    "mark = 'osv^<>XPhd'\n",
    "for i,d in enumerate(drug_names):\n",
    "    plt.errorbar(x_axis, mtv_df[d], yerr=tv_err_df[d], marker=mark[i] ,markersize=8, linewidth=1.6, label=d)\n",
    "\n",
    "plt.xlabel('Time (Days)')\n",
    "plt.ylabel('Tumor Volume (mm3)')\n",
    "plt.title('Tumor Response to Treatment')\n",
    "plt.grid()\n",
    "plt.legend()\n",
    "tumor_volume_fig = plt.gcf()\n",
    "\n",
    "# Save the Figure\n",
    "tumor_volume_fig.savefig('tumor_response.png')\n",
    "\n",
    "# Show the Figure\n",
    "tumor_volume_fig.show()"
   ]
  },
  {
   "cell_type": "markdown",
   "metadata": {},
   "source": [
    "## Metastatic Response to Treatment"
   ]
  },
  {
   "cell_type": "code",
   "execution_count": null,
   "metadata": {},
   "outputs": [],
   "source": [
    "# Store the Mean Met. Site Data Grouped by Drug and Timepoint\n",
    "mean_metastatic_sites_s = df.groupby(['Drug','Timepoint'])['Metastatic Sites'].mean()\n",
    "\n",
    "# Convert to DataFrame\n",
    "mms_df = mean_metastatic_sites_s.to_frame()\n",
    "\n",
    "# Preview DataFrame\n",
    "mms_df.head()"
   ]
  },
  {
   "cell_type": "code",
   "execution_count": null,
   "metadata": {},
   "outputs": [],
   "source": [
    "# Store the Standard Error associated with Met. Sites Grouped by Drug and Timepoint \n",
    "err_metastatic_sites_s = df.groupby(['Drug','Timepoint'])['Metastatic Sites'].sem()\n",
    "\n",
    "# Convert to DataFrame\n",
    "ems_df = err_metastatic_sites_s.to_frame()\n",
    "\n",
    "# Preview DataFrame\n",
    "ems_df.head()"
   ]
  },
  {
   "cell_type": "code",
   "execution_count": null,
   "metadata": {},
   "outputs": [],
   "source": [
    "# Minor Data Munging to Re-Format the Data Frames\n",
    "mms_df = mms_df.unstack(0)['Metastatic Sites']\n",
    "ems_df = ems_df.unstack(0)['Metastatic Sites']\n",
    "\n",
    "# Preview that Reformatting worked\n",
    "mms_df"
   ]
  },
  {
   "cell_type": "code",
   "execution_count": null,
   "metadata": {
    "scrolled": true
   },
   "outputs": [],
   "source": [
    "ems_df"
   ]
  },
  {
   "cell_type": "code",
   "execution_count": null,
   "metadata": {},
   "outputs": [],
   "source": [
    "# 95% confidence interval radii for final results\n",
    "ems_df.iloc[-1] * 1.96"
   ]
  },
  {
   "cell_type": "code",
   "execution_count": null,
   "metadata": {},
   "outputs": [],
   "source": [
    "# Generate the Plot (with Error Bars)\n",
    "plt.figure(figsize=(20,10))\n",
    "\n",
    "for i,d in enumerate(drug_names):\n",
    "    plt.errorbar(x_axis, mms_df[d], yerr=ems_df[d], marker=mark[i], markersize=8, linewidth=1.6, label=d)\n",
    "\n",
    "plt.xlabel('Time (Days)')\n",
    "plt.ylabel('Metastatic Sites')\n",
    "plt.title('Metastatic Spread During Treatment')\n",
    "plt.grid()\n",
    "plt.legend()\n",
    "metastatic_fig = plt.gcf()\n",
    "\n",
    "# Save the Figure\n",
    "metastatic_fig.savefig('metastatic_spread.png')\n",
    "\n",
    "# Show the Figure\n",
    "metastatic_fig.show()"
   ]
  },
  {
   "cell_type": "markdown",
   "metadata": {},
   "source": [
    "## Survival Rates"
   ]
  },
  {
   "cell_type": "code",
   "execution_count": null,
   "metadata": {},
   "outputs": [],
   "source": [
    "# Store the Count of Mice Grouped by Drug and Timepoint (W can pass any metric)\n",
    "nmice_s = df.groupby(['Drug', 'Timepoint'])['Mouse ID'].nunique()\n",
    "\n",
    "# Convert to DataFrame\n",
    "nmice_df = nmice_s.to_frame()\n",
    "\n",
    "# Preview DataFrame\n",
    "nmice_df.head()"
   ]
  },
  {
   "cell_type": "code",
   "execution_count": null,
   "metadata": {},
   "outputs": [],
   "source": [
    "# Minor Data Munging to Re-Format the Data Frames\n",
    "nmice_df = nmice_df.unstack(0)['Mouse ID']\n",
    "\n",
    "# Preview the Data Frame\n",
    "nmice_df"
   ]
  },
  {
   "cell_type": "code",
   "execution_count": null,
   "metadata": {},
   "outputs": [],
   "source": [
    "# Turn survival data into percentages and view dataframe\n",
    "perc_mice_df = nmice_df * 100 / nmice_df.iloc[0]\n",
    "perc_mice_df"
   ]
  },
  {
   "cell_type": "code",
   "execution_count": null,
   "metadata": {},
   "outputs": [],
   "source": [
    "# Generate plot of survival rates\n",
    "plt.figure(figsize=(20,10))\n",
    "\n",
    "for i,d in enumerate(drug_names):\n",
    "    plt.plot(x_axis, perc_mice_df[d], marker=mark[i], markersize=8, linewidth=1.6, label=d)\n",
    "\n",
    "plt.xlabel('Time (Days)')\n",
    "plt.ylabel('Survival Rate (%)')\n",
    "plt.title('Survival During Treatment')\n",
    "plt.grid()\n",
    "plt.legend()\n",
    "survival_fig = plt.gcf()\n",
    "\n",
    "# Save the Figure\n",
    "survival_fig.savefig('survival.png')\n",
    "\n",
    "# Show the Figure\n",
    "survival_fig.show()"
   ]
  },
  {
   "cell_type": "markdown",
   "metadata": {},
   "source": [
    "## Summary Bar Graph"
   ]
  },
  {
   "cell_type": "code",
   "execution_count": null,
   "metadata": {},
   "outputs": [],
   "source": [
    "# Calculate the percent changes for each drug\n",
    "perc_changes_s = 100 * (mtv_df.iloc[-1]/mtv_df.iloc[0] - 1)\n",
    "\n",
    "# Display the data to confirm\n",
    "perc_changes_s"
   ]
  },
  {
   "cell_type": "code",
   "execution_count": null,
   "metadata": {},
   "outputs": [],
   "source": [
    "# Store all Relevant Percent Changes into a Tuple\n",
    "perc_changes = tuple(perc_changes_s)\n",
    "\n",
    "# Splice the data between passing and failing drugs\n",
    "bar_colors = ['r' if p >= 0 else 'g' for p in perc_changes]\n",
    "\n",
    "# Orient widths. Add labels, tick marks, etc.\n",
    "plt.figure(figsize=(15, 10))\n",
    "box_width_scale = 1\n",
    "bar_axis = np.arange(len(perc_changes)) * box_width_scale\n",
    "plt.xticks(bar_axis + box_width_scale, drug_names)\n",
    "plt.yticks(np.arange(-20,80,20))\n",
    "plt.grid()\n",
    "\n",
    "plt.bar(bar_axis + box_width_scale/2, perc_changes, color=bar_colors, width=box_width_scale)\n",
    "plt.ylabel('% Tumor Volume Change')\n",
    "plt.title('Tumor Change Over 45 Day Treatment')\n",
    "\n",
    "# Use functions to label the percentages of changes\n",
    "def label_y (v):\n",
    "    if v >= 0:\n",
    "        return 2\n",
    "    else:\n",
    "        return -4\n",
    "\n",
    "# Call functions to implement the function calls\n",
    "for i,v in enumerate(perc_changes):\n",
    "    plt.text(bar_axis[i] + box_width_scale/3, label_y(v), '{:d}%'.format(int(v)), color='w', fontsize='x-large')\n",
    "\n",
    "# Save the Figure\n",
    "change_fig = plt.gcf()\n",
    "change_fig.savefig('percent_changes.png')\n",
    "\n",
    "# Show the Figure\n",
    "change_fig.show()"
   ]
  },
  {
   "cell_type": "code",
   "execution_count": null,
   "metadata": {},
   "outputs": [],
   "source": []
  }
 ],
 "metadata": {
  "anaconda-cloud": {},
  "kernelspec": {
   "display_name": "Python 3",
   "language": "python",
   "name": "python3"
  },
  "language_info": {
   "codemirror_mode": {
    "name": "ipython",
    "version": 3
   },
   "file_extension": ".py",
   "mimetype": "text/x-python",
   "name": "python",
   "nbconvert_exporter": "python",
   "pygments_lexer": "ipython3",
   "version": "3.7.1"
  }
 },
 "nbformat": 4,
 "nbformat_minor": 1
}
